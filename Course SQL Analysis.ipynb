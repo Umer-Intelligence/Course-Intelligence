{
 "cells": [
  {
   "cell_type": "code",
   "execution_count": null,
   "id": "protected-summer",
   "metadata": {},
   "outputs": [],
   "source": [
    "#In this file we are going to analyze the course dataset using SQL . The reason I am doing it through the notebook is \n",
    "# that it stores the queries as well as the result which is not available in any of the SQL applications"
   ]
  },
  {
   "cell_type": "markdown",
   "id": "limited-weight",
   "metadata": {},
   "source": [
    "# Necessary procedures to load SQL"
   ]
  },
  {
   "cell_type": "code",
   "execution_count": 3,
   "id": "dominican-defensive",
   "metadata": {
    "scrolled": true
   },
   "outputs": [
    {
     "name": "stdout",
     "output_type": "stream",
     "text": [
      "The sql extension is already loaded. To reload it, use:\n",
      "  %reload_ext sql\n"
     ]
    }
   ],
   "source": [
    "%load_ext sql\n",
    "%sql sqlite:///Course.sqlite3"
   ]
  },
  {
   "cell_type": "markdown",
   "id": "banner-asthma",
   "metadata": {},
   "source": [
    "# Viewing dataset "
   ]
  },
  {
   "cell_type": "code",
   "execution_count": 4,
   "id": "genetic-interval",
   "metadata": {
    "scrolled": false
   },
   "outputs": [
    {
     "name": "stdout",
     "output_type": "stream",
     "text": [
      "   sqlite:///Course\n",
      " * sqlite:///Course.sqlite3\n",
      "Done.\n"
     ]
    },
    {
     "data": {
      "text/html": [
       "<table>\n",
       "    <tr>\n",
       "        <th>Institution</th>\n",
       "        <th>CourseNumber</th>\n",
       "        <th>LaunchDate</th>\n",
       "        <th>CourseTitle</th>\n",
       "        <th>Instructors</th>\n",
       "        <th>CourseSubject</th>\n",
       "        <th>Year</th>\n",
       "        <th>HonorCodeCertificates</th>\n",
       "        <th>Participants</th>\n",
       "        <th>Audited(&gt;50PercentCourseContentAccessed)</th>\n",
       "        <th>Certified</th>\n",
       "        <th>PercentAudited</th>\n",
       "        <th>PercentCertified</th>\n",
       "        <th>PercentCertifiedof&gt;50PercentCourseContentAccessed</th>\n",
       "        <th>PercentPlayedVideo</th>\n",
       "        <th>PercentPostedinForum</th>\n",
       "        <th>PercentGradeHigherThanZero</th>\n",
       "        <th>TotalCourseHours</th>\n",
       "        <th>MedianHoursforCertification</th>\n",
       "        <th>MedianAge</th>\n",
       "        <th>PercentMale</th>\n",
       "        <th>PercentFemale</th>\n",
       "        <th>PercentBachelorsDegreeorHigher</th>\n",
       "    </tr>\n",
       "    <tr>\n",
       "        <td>MITx</td>\n",
       "        <td>6.002x</td>\n",
       "        <td>09/05/2012</td>\n",
       "        <td>Circuits and Electronics</td>\n",
       "        <td>Khurram Afridi</td>\n",
       "        <td>Science, Technology, Engineering, and Mathematics</td>\n",
       "        <td>1</td>\n",
       "        <td>1</td>\n",
       "        <td>36105</td>\n",
       "        <td>5431</td>\n",
       "        <td>3003</td>\n",
       "        <td>15.04</td>\n",
       "        <td>8.32</td>\n",
       "        <td>54.98</td>\n",
       "        <td>83.2</td>\n",
       "        <td>8.17</td>\n",
       "        <td>28.97</td>\n",
       "        <td>418.94</td>\n",
       "        <td>64.45</td>\n",
       "        <td>26</td>\n",
       "        <td>88.28</td>\n",
       "        <td>11.72</td>\n",
       "        <td>60.68</td>\n",
       "    </tr>\n",
       "    <tr>\n",
       "        <td>MITx</td>\n",
       "        <td>6.00x</td>\n",
       "        <td>09/26/2012</td>\n",
       "        <td>Introduction to Computer Science and Programming</td>\n",
       "        <td>Eric Grimson, John Guttag, Chris Terman</td>\n",
       "        <td>Computer Science</td>\n",
       "        <td>1</td>\n",
       "        <td>1</td>\n",
       "        <td>62709</td>\n",
       "        <td>8949</td>\n",
       "        <td>5783</td>\n",
       "        <td>14.27</td>\n",
       "        <td>9.22</td>\n",
       "        <td>64.05</td>\n",
       "        <td>89.14</td>\n",
       "        <td>14.38</td>\n",
       "        <td>39.5</td>\n",
       "        <td>884.04</td>\n",
       "        <td>78.53</td>\n",
       "        <td>28</td>\n",
       "        <td>83.5</td>\n",
       "        <td>16.5</td>\n",
       "        <td>63.04</td>\n",
       "    </tr>\n",
       "    <tr>\n",
       "        <td>MITx</td>\n",
       "        <td>3.091x</td>\n",
       "        <td>10/09/2012</td>\n",
       "        <td>Introduction to Solid State Chemistry</td>\n",
       "        <td>Michael Cima</td>\n",
       "        <td>Science, Technology, Engineering, and Mathematics</td>\n",
       "        <td>1</td>\n",
       "        <td>1</td>\n",
       "        <td>16663</td>\n",
       "        <td>2855</td>\n",
       "        <td>2082</td>\n",
       "        <td>17.13</td>\n",
       "        <td>12.49</td>\n",
       "        <td>72.85</td>\n",
       "        <td>87.49</td>\n",
       "        <td>14.42</td>\n",
       "        <td>34.89</td>\n",
       "        <td>227.55</td>\n",
       "        <td>61.28</td>\n",
       "        <td>27</td>\n",
       "        <td>70.32</td>\n",
       "        <td>29.68</td>\n",
       "        <td>58.76</td>\n",
       "    </tr>\n",
       "    <tr>\n",
       "        <td>HarvardX</td>\n",
       "        <td>CS50x</td>\n",
       "        <td>10/15/2012</td>\n",
       "        <td>Introduction to Computer Science</td>\n",
       "        <td>David Malan, Nate Hardison, Rob Bowden, Tommy MacWilliam, Zamyla Chan</td>\n",
       "        <td>Computer Science</td>\n",
       "        <td>1</td>\n",
       "        <td>1</td>\n",
       "        <td>129400</td>\n",
       "        <td>12888</td>\n",
       "        <td>1439</td>\n",
       "        <td>9.96</td>\n",
       "        <td>1.11</td>\n",
       "        <td>11.11</td>\n",
       "        <td>0</td>\n",
       "        <td>0.0</td>\n",
       "        <td>1.11</td>\n",
       "        <td>220.9</td>\n",
       "        <td>0.0</td>\n",
       "        <td>28</td>\n",
       "        <td>80.02</td>\n",
       "        <td>19.98</td>\n",
       "        <td>58.78</td>\n",
       "    </tr>\n",
       "    <tr>\n",
       "        <td>HarvardX</td>\n",
       "        <td>PH207x</td>\n",
       "        <td>10/15/2012</td>\n",
       "        <td>Health in Numbers: Quantitative Methods in Clinical and Public Health Research</td>\n",
       "        <td>Earl Francis Cook, Marcello Pagano</td>\n",
       "        <td>Government, Health, and Social Science</td>\n",
       "        <td>1</td>\n",
       "        <td>1</td>\n",
       "        <td>52521</td>\n",
       "        <td>10729</td>\n",
       "        <td>5058</td>\n",
       "        <td>20.44</td>\n",
       "        <td>9.64</td>\n",
       "        <td>47.12</td>\n",
       "        <td>77.45</td>\n",
       "        <td>15.98</td>\n",
       "        <td>32.52</td>\n",
       "        <td>804.41</td>\n",
       "        <td>76.1</td>\n",
       "        <td>32</td>\n",
       "        <td>56.78</td>\n",
       "        <td>43.22</td>\n",
       "        <td>88.33</td>\n",
       "    </tr>\n",
       "</table>"
      ],
      "text/plain": [
       "[('MITx', '6.002x', '09/05/2012', 'Circuits and Electronics', 'Khurram Afridi', 'Science, Technology, Engineering, and Mathematics', 1, 1, 36105, 5431, 3003, 15.04, 8.32, 54.98, '83.2', 8.17, 28.97, 418.94, 64.45, 26, 88.28, 11.72, 60.68),\n",
       " ('MITx', '6.00x', '09/26/2012', 'Introduction to Computer Science and Programming', 'Eric Grimson, John Guttag, Chris Terman', 'Computer Science', 1, 1, 62709, 8949, 5783, 14.27, 9.22, 64.05, '89.14', 14.38, 39.5, 884.04, 78.53, 28, 83.5, 16.5, 63.04),\n",
       " ('MITx', '3.091x', '10/09/2012', 'Introduction to Solid State Chemistry', 'Michael Cima', 'Science, Technology, Engineering, and Mathematics', 1, 1, 16663, 2855, 2082, 17.13, 12.49, 72.85, '87.49', 14.42, 34.89, 227.55, 61.28, 27, 70.32, 29.68, 58.76),\n",
       " ('HarvardX', 'CS50x', '10/15/2012', 'Introduction to Computer Science', 'David Malan, Nate Hardison, Rob Bowden, Tommy MacWilliam, Zamyla Chan', 'Computer Science', 1, 1, 129400, 12888, 1439, 9.96, 1.11, 11.11, '0', 0.0, 1.11, 220.9, 0.0, 28, 80.02, 19.98, 58.78),\n",
       " ('HarvardX', 'PH207x', '10/15/2012', 'Health in Numbers: Quantitative Methods in Clinical and Public Health Research', 'Earl Francis Cook, Marcello Pagano', 'Government, Health, and Social Science', 1, 1, 52521, 10729, 5058, 20.44, 9.64, 47.12, '77.45', 15.98, 32.52, 804.41, 76.1, 32, 56.78, 43.22, 88.33)]"
      ]
     },
     "execution_count": 4,
     "metadata": {},
     "output_type": "execute_result"
    }
   ],
   "source": [
    "%sql SELECT * FROM Course Limit 5"
   ]
  },
  {
   "cell_type": "markdown",
   "id": "editorial-fusion",
   "metadata": {},
   "source": [
    "# Analysing dataset"
   ]
  },
  {
   "cell_type": "code",
   "execution_count": 5,
   "id": "bizarre-information",
   "metadata": {},
   "outputs": [],
   "source": [
    "#To count number of courses from each institution"
   ]
  },
  {
   "cell_type": "code",
   "execution_count": 12,
   "id": "otherwise-resource",
   "metadata": {},
   "outputs": [
    {
     "name": "stdout",
     "output_type": "stream",
     "text": [
      "   sqlite:///Course\n",
      " * sqlite:///Course.sqlite3\n",
      "Done.\n"
     ]
    },
    {
     "data": {
      "text/html": [
       "<table>\n",
       "    <tr>\n",
       "        <th>Institution</th>\n",
       "        <th>Number_of_courses</th>\n",
       "    </tr>\n",
       "    <tr>\n",
       "        <td>HarvardX</td>\n",
       "        <td>129</td>\n",
       "    </tr>\n",
       "    <tr>\n",
       "        <td>MITx</td>\n",
       "        <td>161</td>\n",
       "    </tr>\n",
       "</table>"
      ],
      "text/plain": [
       "[('HarvardX', 129), ('MITx', 161)]"
      ]
     },
     "execution_count": 12,
     "metadata": {},
     "output_type": "execute_result"
    }
   ],
   "source": [
    "%sql select institution,count(institution) as Number_of_courses from course group by institution"
   ]
  },
  {
   "cell_type": "code",
   "execution_count": null,
   "id": "perfect-crossing",
   "metadata": {},
   "outputs": [],
   "source": [
    "#To find the information about the highest played course"
   ]
  },
  {
   "cell_type": "code",
   "execution_count": 19,
   "id": "featured-willow",
   "metadata": {
    "scrolled": true
   },
   "outputs": [
    {
     "name": "stdout",
     "output_type": "stream",
     "text": [
      "   sqlite:///Course\n",
      " * sqlite:///Course.sqlite3\n",
      "Done.\n"
     ]
    },
    {
     "data": {
      "text/html": [
       "<table>\n",
       "    <tr>\n",
       "        <th>Maximum_played_video</th>\n",
       "        <th>Instructors</th>\n",
       "        <th>CourseTitle</th>\n",
       "    </tr>\n",
       "    <tr>\n",
       "        <td>89.14</td>\n",
       "        <td>Eric Grimson, John Guttag, Chris Terman</td>\n",
       "        <td>Introduction to Computer Science and Programming</td>\n",
       "    </tr>\n",
       "</table>"
      ],
      "text/plain": [
       "[('89.14', 'Eric Grimson, John Guttag, Chris Terman', 'Introduction to Computer Science and Programming')]"
      ]
     },
     "execution_count": 19,
     "metadata": {},
     "output_type": "execute_result"
    }
   ],
   "source": [
    "%sql select max(Percentplayedvideo) as Maximum_played_video,instructors,CourseTitle from course"
   ]
  },
  {
   "cell_type": "code",
   "execution_count": null,
   "id": "forty-record",
   "metadata": {},
   "outputs": [],
   "source": [
    "#To find number of courses of each subject"
   ]
  },
  {
   "cell_type": "code",
   "execution_count": 21,
   "id": "tested-delay",
   "metadata": {},
   "outputs": [
    {
     "name": "stdout",
     "output_type": "stream",
     "text": [
      "   sqlite:///Course\n",
      " * sqlite:///Course.sqlite3\n",
      "Done.\n"
     ]
    },
    {
     "data": {
      "text/html": [
       "<table>\n",
       "    <tr>\n",
       "        <th>CourseSubject</th>\n",
       "        <th>Number_of_courses</th>\n",
       "    </tr>\n",
       "    <tr>\n",
       "        <td>Computer Science</td>\n",
       "        <td>30</td>\n",
       "    </tr>\n",
       "    <tr>\n",
       "        <td>Government, Health, and Social Science</td>\n",
       "        <td>75</td>\n",
       "    </tr>\n",
       "    <tr>\n",
       "        <td>Humanities, History, Design, Religion, and Education</td>\n",
       "        <td>94</td>\n",
       "    </tr>\n",
       "    <tr>\n",
       "        <td>Science, Technology, Engineering, and Mathematics</td>\n",
       "        <td>91</td>\n",
       "    </tr>\n",
       "</table>"
      ],
      "text/plain": [
       "[('Computer Science', 30),\n",
       " ('Government, Health, and Social Science', 75),\n",
       " ('Humanities, History, Design, Religion, and Education', 94),\n",
       " ('Science, Technology, Engineering, and Mathematics', 91)]"
      ]
     },
     "execution_count": 21,
     "metadata": {},
     "output_type": "execute_result"
    }
   ],
   "source": [
    "%sql select coursesubject,count(coursesubject) as Number_of_courses from course group by coursesubject"
   ]
  },
  {
   "cell_type": "code",
   "execution_count": null,
   "id": "tribal-edgar",
   "metadata": {},
   "outputs": [],
   "source": [
    "#To find the instructor of course having highest female percentage"
   ]
  },
  {
   "cell_type": "code",
   "execution_count": 26,
   "id": "sharing-stress",
   "metadata": {},
   "outputs": [
    {
     "name": "stdout",
     "output_type": "stream",
     "text": [
      "   sqlite:///Course\n",
      " * sqlite:///Course.sqlite3\n",
      "Done.\n"
     ]
    },
    {
     "data": {
      "text/html": [
       "<table>\n",
       "    <tr>\n",
       "        <th>Percentage_maximum_female_participation</th>\n",
       "        <th>Instructors</th>\n",
       "    </tr>\n",
       "    <tr>\n",
       "        <td>74.76</td>\n",
       "        <td>Karen Mapp</td>\n",
       "    </tr>\n",
       "</table>"
      ],
      "text/plain": [
       "[(74.76, 'Karen Mapp')]"
      ]
     },
     "execution_count": 26,
     "metadata": {},
     "output_type": "execute_result"
    }
   ],
   "source": [
    "%sql SELECT max(PercentFemale) as Percentage_maximum_female_participation,instructors FROM Course "
   ]
  },
  {
   "cell_type": "code",
   "execution_count": null,
   "id": "moral-richardson",
   "metadata": {},
   "outputs": [],
   "source": [
    "#To check which institution has the most qualified individuals "
   ]
  },
  {
   "cell_type": "code",
   "execution_count": 36,
   "id": "proud-westminster",
   "metadata": {
    "scrolled": true
   },
   "outputs": [
    {
     "name": "stdout",
     "output_type": "stream",
     "text": [
      "   sqlite:///Course\n",
      " * sqlite:///Course.sqlite3\n",
      "Done.\n"
     ]
    },
    {
     "data": {
      "text/html": [
       "<table>\n",
       "    <tr>\n",
       "        <th>Institution</th>\n",
       "        <th>Average_percentage_having_Bachelordegree_or_higher</th>\n",
       "    </tr>\n",
       "    <tr>\n",
       "        <td>HarvardX</td>\n",
       "        <td>76.02</td>\n",
       "    </tr>\n",
       "    <tr>\n",
       "        <td>MITx</td>\n",
       "        <td>68.92</td>\n",
       "    </tr>\n",
       "</table>"
      ],
      "text/plain": [
       "[('HarvardX', 76.02), ('MITx', 68.92)]"
      ]
     },
     "execution_count": 36,
     "metadata": {},
     "output_type": "execute_result"
    }
   ],
   "source": [
    "%sql select institution,round(avg(percentbachelorsdegreeorhigher),2) as Average_percentage_having_Bachelordegree_or_higher from course group by institution"
   ]
  },
  {
   "cell_type": "code",
   "execution_count": null,
   "id": "handy-grocery",
   "metadata": {},
   "outputs": [],
   "source": [
    "#To find the longest course"
   ]
  },
  {
   "cell_type": "code",
   "execution_count": 46,
   "id": "willing-highlight",
   "metadata": {
    "scrolled": true
   },
   "outputs": [
    {
     "name": "stdout",
     "output_type": "stream",
     "text": [
      "   sqlite:///Course\n",
      " * sqlite:///Course.sqlite3\n",
      "Done.\n"
     ]
    },
    {
     "data": {
      "text/html": [
       "<table>\n",
       "    <tr>\n",
       "        <th>CourseTitle</th>\n",
       "        <th>max(totalcoursehours)</th>\n",
       "    </tr>\n",
       "    <tr>\n",
       "        <td>Introduction to Computer Science and Programming</td>\n",
       "        <td>895.01</td>\n",
       "    </tr>\n",
       "</table>"
      ],
      "text/plain": [
       "[('Introduction to Computer Science and Programming', 895.01)]"
      ]
     },
     "execution_count": 46,
     "metadata": {},
     "output_type": "execute_result"
    }
   ],
   "source": [
    "%sql select coursetitle,max(totalcoursehours) from course"
   ]
  },
  {
   "cell_type": "code",
   "execution_count": null,
   "id": "congressional-virtue",
   "metadata": {},
   "outputs": [],
   "source": [
    "#To order the data by decreasing order of percentage video played"
   ]
  },
  {
   "cell_type": "code",
   "execution_count": 49,
   "id": "dependent-canada",
   "metadata": {
    "scrolled": false
   },
   "outputs": [
    {
     "name": "stdout",
     "output_type": "stream",
     "text": [
      "   sqlite:///Course\n",
      " * sqlite:///Course.sqlite3\n",
      "Done.\n"
     ]
    },
    {
     "data": {
      "text/html": [
       "<table>\n",
       "    <tr>\n",
       "        <th>Institution</th>\n",
       "        <th>CourseNumber</th>\n",
       "        <th>LaunchDate</th>\n",
       "        <th>CourseTitle</th>\n",
       "        <th>Instructors</th>\n",
       "        <th>CourseSubject</th>\n",
       "        <th>Year</th>\n",
       "        <th>HonorCodeCertificates</th>\n",
       "        <th>Participants</th>\n",
       "        <th>Audited(&gt;50PercentCourseContentAccessed)</th>\n",
       "        <th>Certified</th>\n",
       "        <th>PercentAudited</th>\n",
       "        <th>PercentCertified</th>\n",
       "        <th>PercentCertifiedof&gt;50PercentCourseContentAccessed</th>\n",
       "        <th>PercentPlayedVideo</th>\n",
       "        <th>PercentPostedinForum</th>\n",
       "        <th>PercentGradeHigherThanZero</th>\n",
       "        <th>TotalCourseHours</th>\n",
       "        <th>MedianHoursforCertification</th>\n",
       "        <th>MedianAge</th>\n",
       "        <th>PercentMale</th>\n",
       "        <th>PercentFemale</th>\n",
       "        <th>PercentBachelorsDegreeorHigher</th>\n",
       "    </tr>\n",
       "    <tr>\n",
       "        <td>MITx</td>\n",
       "        <td>6.00x</td>\n",
       "        <td>09/26/2012</td>\n",
       "        <td>Introduction to Computer Science and Programming</td>\n",
       "        <td>Eric Grimson, John Guttag, Chris Terman</td>\n",
       "        <td>Computer Science</td>\n",
       "        <td>1</td>\n",
       "        <td>1</td>\n",
       "        <td>62709</td>\n",
       "        <td>8949</td>\n",
       "        <td>5783</td>\n",
       "        <td>14.27</td>\n",
       "        <td>9.22</td>\n",
       "        <td>64.05</td>\n",
       "        <td>89.14</td>\n",
       "        <td>14.38</td>\n",
       "        <td>39.5</td>\n",
       "        <td>884.04</td>\n",
       "        <td>78.53</td>\n",
       "        <td>28</td>\n",
       "        <td>83.5</td>\n",
       "        <td>16.5</td>\n",
       "        <td>63.04</td>\n",
       "    </tr>\n",
       "    <tr>\n",
       "        <td>MITx</td>\n",
       "        <td>3.091x</td>\n",
       "        <td>10/09/2012</td>\n",
       "        <td>Introduction to Solid State Chemistry</td>\n",
       "        <td>Michael Cima</td>\n",
       "        <td>Science, Technology, Engineering, and Mathematics</td>\n",
       "        <td>1</td>\n",
       "        <td>1</td>\n",
       "        <td>16663</td>\n",
       "        <td>2855</td>\n",
       "        <td>2082</td>\n",
       "        <td>17.13</td>\n",
       "        <td>12.49</td>\n",
       "        <td>72.85</td>\n",
       "        <td>87.49</td>\n",
       "        <td>14.42</td>\n",
       "        <td>34.89</td>\n",
       "        <td>227.55</td>\n",
       "        <td>61.28</td>\n",
       "        <td>27</td>\n",
       "        <td>70.32</td>\n",
       "        <td>29.68</td>\n",
       "        <td>58.76</td>\n",
       "    </tr>\n",
       "    <tr>\n",
       "        <td>HarvardX</td>\n",
       "        <td>PH278x</td>\n",
       "        <td>05/15/2013</td>\n",
       "        <td>Human Health and Global Environmental Change</td>\n",
       "        <td>Aaron Bernstein, Jack Spengler</td>\n",
       "        <td>Government, Health, and Social Science</td>\n",
       "        <td>1</td>\n",
       "        <td>1</td>\n",
       "        <td>23179</td>\n",
       "        <td>3727</td>\n",
       "        <td>2743</td>\n",
       "        <td>16.1</td>\n",
       "        <td>11.85</td>\n",
       "        <td>70.83</td>\n",
       "        <td>85.35</td>\n",
       "        <td>14.48</td>\n",
       "        <td>29.01</td>\n",
       "        <td>110.67</td>\n",
       "        <td>21.69</td>\n",
       "        <td>30</td>\n",
       "        <td>51.15</td>\n",
       "        <td>48.85</td>\n",
       "        <td>75.19</td>\n",
       "    </tr>\n",
       "    <tr>\n",
       "        <td>MITx</td>\n",
       "        <td>8.02x</td>\n",
       "        <td>02/18/2013</td>\n",
       "        <td>Electricity and Magnetism</td>\n",
       "        <td>Walter Lewin, John Belcher, Peter Dourmashkin, Ricardo Abbate, Saif Rayyan, George Stephans, Isaac Chuang</td>\n",
       "        <td>Science, Technology, Engineering, and Mathematics</td>\n",
       "        <td>1</td>\n",
       "        <td>1</td>\n",
       "        <td>39178</td>\n",
       "        <td>3543</td>\n",
       "        <td>1722</td>\n",
       "        <td>9.04</td>\n",
       "        <td>4.4</td>\n",
       "        <td>48.49</td>\n",
       "        <td>85.3</td>\n",
       "        <td>5.86</td>\n",
       "        <td>16.04</td>\n",
       "        <td>380.35</td>\n",
       "        <td>107.88</td>\n",
       "        <td>26</td>\n",
       "        <td>85.42</td>\n",
       "        <td>14.58</td>\n",
       "        <td>56.97</td>\n",
       "    </tr>\n",
       "    <tr>\n",
       "        <td>MITx</td>\n",
       "        <td>7.00x</td>\n",
       "        <td>03/05/2013</td>\n",
       "        <td>Introduction to Biology: Secret of Life</td>\n",
       "        <td>Eric Lander, Graham Walker, Brian White, Michelle, Mischke, Mary Ellen Wiltrout</td>\n",
       "        <td>Science, Technology, Engineering, and Mathematics</td>\n",
       "        <td>1</td>\n",
       "        <td>1</td>\n",
       "        <td>28535</td>\n",
       "        <td>6109</td>\n",
       "        <td>3242</td>\n",
       "        <td>21.41</td>\n",
       "        <td>11.36</td>\n",
       "        <td>52.92</td>\n",
       "        <td>84.62</td>\n",
       "        <td>33.14</td>\n",
       "        <td>38.85</td>\n",
       "        <td>476.84</td>\n",
       "        <td>72.8</td>\n",
       "        <td>30</td>\n",
       "        <td>57.79</td>\n",
       "        <td>42.21</td>\n",
       "        <td>68.15</td>\n",
       "    </tr>\n",
       "</table>"
      ],
      "text/plain": [
       "[('MITx', '6.00x', '09/26/2012', 'Introduction to Computer Science and Programming', 'Eric Grimson, John Guttag, Chris Terman', 'Computer Science', 1, 1, 62709, 8949, 5783, 14.27, 9.22, 64.05, '89.14', 14.38, 39.5, 884.04, 78.53, 28, 83.5, 16.5, 63.04),\n",
       " ('MITx', '3.091x', '10/09/2012', 'Introduction to Solid State Chemistry', 'Michael Cima', 'Science, Technology, Engineering, and Mathematics', 1, 1, 16663, 2855, 2082, 17.13, 12.49, 72.85, '87.49', 14.42, 34.89, 227.55, 61.28, 27, 70.32, 29.68, 58.76),\n",
       " ('HarvardX', 'PH278x', '05/15/2013', 'Human Health and Global Environmental Change', 'Aaron Bernstein, Jack Spengler', 'Government, Health, and Social Science', 1, 1, 23179, 3727, 2743, 16.1, 11.85, 70.83, '85.35', 14.48, 29.01, 110.67, 21.69, 30, 51.15, 48.85, 75.19),\n",
       " ('MITx', '8.02x', '02/18/2013', 'Electricity and Magnetism', 'Walter Lewin, John Belcher, Peter Dourmashkin, Ricardo Abbate, Saif Rayyan, George Stephans, Isaac Chuang', 'Science, Technology, Engineering, and Mathematics', 1, 1, 39178, 3543, 1722, 9.04, 4.4, 48.49, '85.3', 5.86, 16.04, 380.35, 107.88, 26, 85.42, 14.58, 56.97),\n",
       " ('MITx', '7.00x', '03/05/2013', 'Introduction to Biology: Secret of Life', 'Eric Lander, Graham Walker, Brian White, Michelle, Mischke, Mary Ellen Wiltrout', 'Science, Technology, Engineering, and Mathematics', 1, 1, 28535, 6109, 3242, 21.41, 11.36, 52.92, '84.62', 33.14, 38.85, 476.84, 72.8, 30, 57.79, 42.21, 68.15)]"
      ]
     },
     "execution_count": 49,
     "metadata": {},
     "output_type": "execute_result"
    }
   ],
   "source": [
    "%sql select * from course order by percentplayedvideo desc limit 5"
   ]
  },
  {
   "cell_type": "code",
   "execution_count": null,
   "id": "occasional-deviation",
   "metadata": {},
   "outputs": [],
   "source": [
    "#To find out the average male and female percentage in each institution"
   ]
  },
  {
   "cell_type": "code",
   "execution_count": 53,
   "id": "periodic-auction",
   "metadata": {
    "scrolled": true
   },
   "outputs": [
    {
     "name": "stdout",
     "output_type": "stream",
     "text": [
      "   sqlite:///Course\n",
      " * sqlite:///Course.sqlite3\n",
      "Done.\n"
     ]
    },
    {
     "data": {
      "text/html": [
       "<table>\n",
       "    <tr>\n",
       "        <th>Institution</th>\n",
       "        <th>Average_male_percentage</th>\n",
       "        <th>Average_female_percentage</th>\n",
       "    </tr>\n",
       "    <tr>\n",
       "        <td>HarvardX</td>\n",
       "        <td>55.44</td>\n",
       "        <td>44.56</td>\n",
       "    </tr>\n",
       "    <tr>\n",
       "        <td>MITx</td>\n",
       "        <td>76.28</td>\n",
       "        <td>23.72</td>\n",
       "    </tr>\n",
       "</table>"
      ],
      "text/plain": [
       "[('HarvardX', 55.44, 44.56), ('MITx', 76.28, 23.72)]"
      ]
     },
     "execution_count": 53,
     "metadata": {},
     "output_type": "execute_result"
    }
   ],
   "source": [
    "%sql select institution,round(avg(percentmale),2) as Average_male_percentage,round(avg(percentfemale),2) as Average_female_percentage from course group by institution"
   ]
  },
  {
   "cell_type": "code",
   "execution_count": null,
   "id": "julian-collect",
   "metadata": {},
   "outputs": [],
   "source": [
    "#To create a new column called 'new courses'"
   ]
  },
  {
   "cell_type": "code",
   "execution_count": 89,
   "id": "based-tomorrow",
   "metadata": {},
   "outputs": [
    {
     "name": "stdout",
     "output_type": "stream",
     "text": [
      "   sqlite:///Course\n",
      " * sqlite:///Course.sqlite3\n",
      "(sqlite3.OperationalError) duplicate column name: New_Courses\n",
      "[SQL: alter table course add column New_Courses character]\n",
      "(Background on this error at: http://sqlalche.me/e/13/e3q8)\n",
      "   sqlite:///Course\n",
      " * sqlite:///Course.sqlite3\n",
      "Done.\n"
     ]
    },
    {
     "data": {
      "text/html": [
       "<table>\n",
       "    <tr>\n",
       "        <th>New_Courses</th>\n",
       "    </tr>\n",
       "    <tr>\n",
       "        <td>None</td>\n",
       "    </tr>\n",
       "</table>"
      ],
      "text/plain": [
       "[(None,)]"
      ]
     },
     "execution_count": 89,
     "metadata": {},
     "output_type": "execute_result"
    }
   ],
   "source": [
    "%sql alter table course add column New_Courses character\n",
    "%sql select new_courses from course limit 1"
   ]
  },
  {
   "cell_type": "code",
   "execution_count": null,
   "id": "latest-premium",
   "metadata": {},
   "outputs": [],
   "source": []
  }
 ],
 "metadata": {
  "kernelspec": {
   "display_name": "Python 3",
   "language": "python",
   "name": "python3"
  },
  "language_info": {
   "codemirror_mode": {
    "name": "ipython",
    "version": 3
   },
   "file_extension": ".py",
   "mimetype": "text/x-python",
   "name": "python",
   "nbconvert_exporter": "python",
   "pygments_lexer": "ipython3",
   "version": "3.6.1"
  }
 },
 "nbformat": 4,
 "nbformat_minor": 5
}
