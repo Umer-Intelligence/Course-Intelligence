{
 "cells": [
  {
   "cell_type": "code",
   "execution_count": 1,
   "id": "bottom-court",
   "metadata": {},
   "outputs": [],
   "source": [
    "#In this file we are going to analyze the 'courses' dataset using R."
   ]
  },
  {
   "cell_type": "markdown",
   "id": "fatal-newton",
   "metadata": {},
   "source": [
    "# Loading libraries"
   ]
  },
  {
   "cell_type": "code",
   "execution_count": 2,
   "id": "acquired-wednesday",
   "metadata": {},
   "outputs": [
    {
     "name": "stderr",
     "output_type": "stream",
     "text": [
      "Warning message:\n",
      "\"package 'dplyr' was built under R version 4.1.0\"\n",
      "\n",
      "Attaching package: 'dplyr'\n",
      "\n",
      "\n",
      "The following objects are masked from 'package:stats':\n",
      "\n",
      "    filter, lag\n",
      "\n",
      "\n",
      "The following objects are masked from 'package:base':\n",
      "\n",
      "    intersect, setdiff, setequal, union\n",
      "\n",
      "\n"
     ]
    }
   ],
   "source": [
    "library(dplyr)\n",
    "library(ggplot2)"
   ]
  },
  {
   "cell_type": "markdown",
   "id": "allied-reflection",
   "metadata": {},
   "source": [
    "# Viewing dataset"
   ]
  },
  {
   "cell_type": "code",
   "execution_count": 26,
   "id": "british-career",
   "metadata": {
    "scrolled": true
   },
   "outputs": [
    {
     "data": {
      "text/html": [
       "<table class=\"dataframe\">\n",
       "<caption>A data.frame: 6 × 23</caption>\n",
       "<thead>\n",
       "\t<tr><th></th><th scope=col>Institution</th><th scope=col>Course.Number</th><th scope=col>Launch.Date</th><th scope=col>Course.Title</th><th scope=col>Instructors</th><th scope=col>Course.Subject</th><th scope=col>Year</th><th scope=col>Honor.Code.Certificates</th><th scope=col>Participants</th><th scope=col>Audited....50Percent.Course.Content.Accessed.</th><th scope=col>...</th><th scope=col>Percent.Certified.of...50Percent.Course.Content.Accessed</th><th scope=col>Percent.Played.Video</th><th scope=col>Percent.Posted.in.Forum</th><th scope=col>Percent.Grade.Higher.Than.Zero</th><th scope=col>Total.Course.Hours</th><th scope=col>Median.Hours.for.Certification</th><th scope=col>Median.Age</th><th scope=col>Percent.Male</th><th scope=col>Percent.Female</th><th scope=col>Percent.Bachelor.s.Degree.or.Higher</th></tr>\n",
       "\t<tr><th></th><th scope=col>&lt;chr&gt;</th><th scope=col>&lt;chr&gt;</th><th scope=col>&lt;chr&gt;</th><th scope=col>&lt;chr&gt;</th><th scope=col>&lt;chr&gt;</th><th scope=col>&lt;chr&gt;</th><th scope=col>&lt;int&gt;</th><th scope=col>&lt;int&gt;</th><th scope=col>&lt;int&gt;</th><th scope=col>&lt;int&gt;</th><th scope=col>...</th><th scope=col>&lt;dbl&gt;</th><th scope=col>&lt;chr&gt;</th><th scope=col>&lt;dbl&gt;</th><th scope=col>&lt;dbl&gt;</th><th scope=col>&lt;dbl&gt;</th><th scope=col>&lt;dbl&gt;</th><th scope=col>&lt;dbl&gt;</th><th scope=col>&lt;dbl&gt;</th><th scope=col>&lt;dbl&gt;</th><th scope=col>&lt;dbl&gt;</th></tr>\n",
       "</thead>\n",
       "<tbody>\n",
       "\t<tr><th scope=row>1</th><td>MITx    </td><td>6.002x</td><td>09/05/2012</td><td>Circuits and Electronics                                                      </td><td>Khurram Afridi                                                       </td><td>Science, Technology, Engineering, and Mathematics</td><td>1</td><td>1</td><td> 36105</td><td> 5431</td><td>...</td><td>54.98</td><td>83.2 </td><td> 8.17</td><td>28.97</td><td>418.94</td><td>64.45</td><td>26</td><td>88.28</td><td>11.72</td><td>60.68</td></tr>\n",
       "\t<tr><th scope=row>2</th><td>MITx    </td><td>6.00x </td><td>09/26/2012</td><td>Introduction to Computer Science and Programming                              </td><td>Eric Grimson, John Guttag, Chris Terman                              </td><td>Computer Science                                 </td><td>1</td><td>1</td><td> 62709</td><td> 8949</td><td>...</td><td>64.05</td><td>89.14</td><td>14.38</td><td>39.50</td><td>884.04</td><td>78.53</td><td>28</td><td>83.50</td><td>16.50</td><td>63.04</td></tr>\n",
       "\t<tr><th scope=row>3</th><td>MITx    </td><td>3.091x</td><td>10/09/2012</td><td>Introduction to Solid State Chemistry                                         </td><td>Michael Cima                                                         </td><td>Science, Technology, Engineering, and Mathematics</td><td>1</td><td>1</td><td> 16663</td><td> 2855</td><td>...</td><td>72.85</td><td>87.49</td><td>14.42</td><td>34.89</td><td>227.55</td><td>61.28</td><td>27</td><td>70.32</td><td>29.68</td><td>58.76</td></tr>\n",
       "\t<tr><th scope=row>4</th><td>HarvardX</td><td>CS50x </td><td>10/15/2012</td><td>Introduction to Computer Science                                              </td><td>David Malan, Nate Hardison, Rob Bowden, Tommy MacWilliam, Zamyla Chan</td><td>Computer Science                                 </td><td>1</td><td>1</td><td>129400</td><td>12888</td><td>...</td><td>11.11</td><td>0    </td><td> 0.00</td><td> 1.11</td><td>220.90</td><td> 0.00</td><td>28</td><td>80.02</td><td>19.98</td><td>58.78</td></tr>\n",
       "\t<tr><th scope=row>5</th><td>HarvardX</td><td>PH207x</td><td>10/15/2012</td><td>Health in Numbers: Quantitative Methods in Clinical and Public Health Research</td><td>Earl Francis Cook, Marcello Pagano                                   </td><td>Government, Health, and Social Science           </td><td>1</td><td>1</td><td> 52521</td><td>10729</td><td>...</td><td>47.12</td><td>77.45</td><td>15.98</td><td>32.52</td><td>804.41</td><td>76.10</td><td>32</td><td>56.78</td><td>43.22</td><td>88.33</td></tr>\n",
       "\t<tr><th scope=row>6</th><td>MITx    </td><td>6.00x </td><td>02/04/2013</td><td>Introduction to Computer Science and Programming                              </td><td>Larry Rudolph                                                        </td><td>Computer Science                                 </td><td>1</td><td>1</td><td> 65380</td><td> 6473</td><td>...</td><td>51.17</td><td>82.43</td><td>10.30</td><td>28.90</td><td>639.40</td><td>84.14</td><td>27</td><td>83.99</td><td>16.01</td><td>60.90</td></tr>\n",
       "</tbody>\n",
       "</table>\n"
      ],
      "text/latex": [
       "A data.frame: 6 × 23\n",
       "\\begin{tabular}{r|lllllllllllllllllllll}\n",
       "  & Institution & Course.Number & Launch.Date & Course.Title & Instructors & Course.Subject & Year & Honor.Code.Certificates & Participants & Audited....50Percent.Course.Content.Accessed. & ... & Percent.Certified.of...50Percent.Course.Content.Accessed & Percent.Played.Video & Percent.Posted.in.Forum & Percent.Grade.Higher.Than.Zero & Total.Course.Hours & Median.Hours.for.Certification & Median.Age & Percent.Male & Percent.Female & Percent.Bachelor.s.Degree.or.Higher\\\\\n",
       "  & <chr> & <chr> & <chr> & <chr> & <chr> & <chr> & <int> & <int> & <int> & <int> & ... & <dbl> & <chr> & <dbl> & <dbl> & <dbl> & <dbl> & <dbl> & <dbl> & <dbl> & <dbl>\\\\\n",
       "\\hline\n",
       "\t1 & MITx     & 6.002x & 09/05/2012 & Circuits and Electronics                                                       & Khurram Afridi                                                        & Science, Technology, Engineering, and Mathematics & 1 & 1 &  36105 &  5431 & ... & 54.98 & 83.2  &  8.17 & 28.97 & 418.94 & 64.45 & 26 & 88.28 & 11.72 & 60.68\\\\\n",
       "\t2 & MITx     & 6.00x  & 09/26/2012 & Introduction to Computer Science and Programming                               & Eric Grimson, John Guttag, Chris Terman                               & Computer Science                                  & 1 & 1 &  62709 &  8949 & ... & 64.05 & 89.14 & 14.38 & 39.50 & 884.04 & 78.53 & 28 & 83.50 & 16.50 & 63.04\\\\\n",
       "\t3 & MITx     & 3.091x & 10/09/2012 & Introduction to Solid State Chemistry                                          & Michael Cima                                                          & Science, Technology, Engineering, and Mathematics & 1 & 1 &  16663 &  2855 & ... & 72.85 & 87.49 & 14.42 & 34.89 & 227.55 & 61.28 & 27 & 70.32 & 29.68 & 58.76\\\\\n",
       "\t4 & HarvardX & CS50x  & 10/15/2012 & Introduction to Computer Science                                               & David Malan, Nate Hardison, Rob Bowden, Tommy MacWilliam, Zamyla Chan & Computer Science                                  & 1 & 1 & 129400 & 12888 & ... & 11.11 & 0     &  0.00 &  1.11 & 220.90 &  0.00 & 28 & 80.02 & 19.98 & 58.78\\\\\n",
       "\t5 & HarvardX & PH207x & 10/15/2012 & Health in Numbers: Quantitative Methods in Clinical and Public Health Research & Earl Francis Cook, Marcello Pagano                                    & Government, Health, and Social Science            & 1 & 1 &  52521 & 10729 & ... & 47.12 & 77.45 & 15.98 & 32.52 & 804.41 & 76.10 & 32 & 56.78 & 43.22 & 88.33\\\\\n",
       "\t6 & MITx     & 6.00x  & 02/04/2013 & Introduction to Computer Science and Programming                               & Larry Rudolph                                                         & Computer Science                                  & 1 & 1 &  65380 &  6473 & ... & 51.17 & 82.43 & 10.30 & 28.90 & 639.40 & 84.14 & 27 & 83.99 & 16.01 & 60.90\\\\\n",
       "\\end{tabular}\n"
      ],
      "text/markdown": [
       "\n",
       "A data.frame: 6 × 23\n",
       "\n",
       "| <!--/--> | Institution &lt;chr&gt; | Course.Number &lt;chr&gt; | Launch.Date &lt;chr&gt; | Course.Title &lt;chr&gt; | Instructors &lt;chr&gt; | Course.Subject &lt;chr&gt; | Year &lt;int&gt; | Honor.Code.Certificates &lt;int&gt; | Participants &lt;int&gt; | Audited....50Percent.Course.Content.Accessed. &lt;int&gt; | ... ... | Percent.Certified.of...50Percent.Course.Content.Accessed &lt;dbl&gt; | Percent.Played.Video &lt;chr&gt; | Percent.Posted.in.Forum &lt;dbl&gt; | Percent.Grade.Higher.Than.Zero &lt;dbl&gt; | Total.Course.Hours &lt;dbl&gt; | Median.Hours.for.Certification &lt;dbl&gt; | Median.Age &lt;dbl&gt; | Percent.Male &lt;dbl&gt; | Percent.Female &lt;dbl&gt; | Percent.Bachelor.s.Degree.or.Higher &lt;dbl&gt; |\n",
       "|---|---|---|---|---|---|---|---|---|---|---|---|---|---|---|---|---|---|---|---|---|---|\n",
       "| 1 | MITx     | 6.002x | 09/05/2012 | Circuits and Electronics                                                       | Khurram Afridi                                                        | Science, Technology, Engineering, and Mathematics | 1 | 1 |  36105 |  5431 | ... | 54.98 | 83.2  |  8.17 | 28.97 | 418.94 | 64.45 | 26 | 88.28 | 11.72 | 60.68 |\n",
       "| 2 | MITx     | 6.00x  | 09/26/2012 | Introduction to Computer Science and Programming                               | Eric Grimson, John Guttag, Chris Terman                               | Computer Science                                  | 1 | 1 |  62709 |  8949 | ... | 64.05 | 89.14 | 14.38 | 39.50 | 884.04 | 78.53 | 28 | 83.50 | 16.50 | 63.04 |\n",
       "| 3 | MITx     | 3.091x | 10/09/2012 | Introduction to Solid State Chemistry                                          | Michael Cima                                                          | Science, Technology, Engineering, and Mathematics | 1 | 1 |  16663 |  2855 | ... | 72.85 | 87.49 | 14.42 | 34.89 | 227.55 | 61.28 | 27 | 70.32 | 29.68 | 58.76 |\n",
       "| 4 | HarvardX | CS50x  | 10/15/2012 | Introduction to Computer Science                                               | David Malan, Nate Hardison, Rob Bowden, Tommy MacWilliam, Zamyla Chan | Computer Science                                  | 1 | 1 | 129400 | 12888 | ... | 11.11 | 0     |  0.00 |  1.11 | 220.90 |  0.00 | 28 | 80.02 | 19.98 | 58.78 |\n",
       "| 5 | HarvardX | PH207x | 10/15/2012 | Health in Numbers: Quantitative Methods in Clinical and Public Health Research | Earl Francis Cook, Marcello Pagano                                    | Government, Health, and Social Science            | 1 | 1 |  52521 | 10729 | ... | 47.12 | 77.45 | 15.98 | 32.52 | 804.41 | 76.10 | 32 | 56.78 | 43.22 | 88.33 |\n",
       "| 6 | MITx     | 6.00x  | 02/04/2013 | Introduction to Computer Science and Programming                               | Larry Rudolph                                                         | Computer Science                                  | 1 | 1 |  65380 |  6473 | ... | 51.17 | 82.43 | 10.30 | 28.90 | 639.40 | 84.14 | 27 | 83.99 | 16.01 | 60.90 |\n",
       "\n"
      ],
      "text/plain": [
       "  Institution Course.Number Launch.Date\n",
       "1 MITx        6.002x        09/05/2012 \n",
       "2 MITx        6.00x         09/26/2012 \n",
       "3 MITx        3.091x        10/09/2012 \n",
       "4 HarvardX    CS50x         10/15/2012 \n",
       "5 HarvardX    PH207x        10/15/2012 \n",
       "6 MITx        6.00x         02/04/2013 \n",
       "  Course.Title                                                                  \n",
       "1 Circuits and Electronics                                                      \n",
       "2 Introduction to Computer Science and Programming                              \n",
       "3 Introduction to Solid State Chemistry                                         \n",
       "4 Introduction to Computer Science                                              \n",
       "5 Health in Numbers: Quantitative Methods in Clinical and Public Health Research\n",
       "6 Introduction to Computer Science and Programming                              \n",
       "  Instructors                                                          \n",
       "1 Khurram Afridi                                                       \n",
       "2 Eric Grimson, John Guttag, Chris Terman                              \n",
       "3 Michael Cima                                                         \n",
       "4 David Malan, Nate Hardison, Rob Bowden, Tommy MacWilliam, Zamyla Chan\n",
       "5 Earl Francis Cook, Marcello Pagano                                   \n",
       "6 Larry Rudolph                                                        \n",
       "  Course.Subject                                    Year\n",
       "1 Science, Technology, Engineering, and Mathematics 1   \n",
       "2 Computer Science                                  1   \n",
       "3 Science, Technology, Engineering, and Mathematics 1   \n",
       "4 Computer Science                                  1   \n",
       "5 Government, Health, and Social Science            1   \n",
       "6 Computer Science                                  1   \n",
       "  Honor.Code.Certificates Participants\n",
       "1 1                        36105      \n",
       "2 1                        62709      \n",
       "3 1                        16663      \n",
       "4 1                       129400      \n",
       "5 1                        52521      \n",
       "6 1                        65380      \n",
       "  Audited....50Percent.Course.Content.Accessed. ...\n",
       "1  5431                                         ...\n",
       "2  8949                                         ...\n",
       "3  2855                                         ...\n",
       "4 12888                                         ...\n",
       "5 10729                                         ...\n",
       "6  6473                                         ...\n",
       "  Percent.Certified.of...50Percent.Course.Content.Accessed Percent.Played.Video\n",
       "1 54.98                                                    83.2                \n",
       "2 64.05                                                    89.14               \n",
       "3 72.85                                                    87.49               \n",
       "4 11.11                                                    0                   \n",
       "5 47.12                                                    77.45               \n",
       "6 51.17                                                    82.43               \n",
       "  Percent.Posted.in.Forum Percent.Grade.Higher.Than.Zero Total.Course.Hours\n",
       "1  8.17                   28.97                          418.94            \n",
       "2 14.38                   39.50                          884.04            \n",
       "3 14.42                   34.89                          227.55            \n",
       "4  0.00                    1.11                          220.90            \n",
       "5 15.98                   32.52                          804.41            \n",
       "6 10.30                   28.90                          639.40            \n",
       "  Median.Hours.for.Certification Median.Age Percent.Male Percent.Female\n",
       "1 64.45                          26         88.28        11.72         \n",
       "2 78.53                          28         83.50        16.50         \n",
       "3 61.28                          27         70.32        29.68         \n",
       "4  0.00                          28         80.02        19.98         \n",
       "5 76.10                          32         56.78        43.22         \n",
       "6 84.14                          27         83.99        16.01         \n",
       "  Percent.Bachelor.s.Degree.or.Higher\n",
       "1 60.68                              \n",
       "2 63.04                              \n",
       "3 58.76                              \n",
       "4 58.78                              \n",
       "5 88.33                              \n",
       "6 60.90                              "
      ]
     },
     "metadata": {},
     "output_type": "display_data"
    }
   ],
   "source": [
    "Course <- read.csv('C:/Desktop/Courses/Course.csv')\n",
    "head(Course)"
   ]
  },
  {
   "cell_type": "markdown",
   "id": "opened-merchandise",
   "metadata": {},
   "source": [
    "# Analysing dataset"
   ]
  },
  {
   "cell_type": "code",
   "execution_count": null,
   "id": "tamil-naples",
   "metadata": {},
   "outputs": [],
   "source": [
    "#To find the course having highest participants"
   ]
  },
  {
   "cell_type": "code",
   "execution_count": 7,
   "id": "separated-softball",
   "metadata": {
    "scrolled": true
   },
   "outputs": [
    {
     "data": {
      "text/html": [
       "<table class=\"dataframe\">\n",
       "<caption>A data.frame: 1 × 2</caption>\n",
       "<thead>\n",
       "\t<tr><th scope=col>Course.Title</th><th scope=col>Participants</th></tr>\n",
       "\t<tr><th scope=col>&lt;chr&gt;</th><th scope=col>&lt;int&gt;</th></tr>\n",
       "</thead>\n",
       "<tbody>\n",
       "\t<tr><td>Introduction to Computer Science</td><td>301082</td></tr>\n",
       "</tbody>\n",
       "</table>\n"
      ],
      "text/latex": [
       "A data.frame: 1 × 2\n",
       "\\begin{tabular}{ll}\n",
       " Course.Title & Participants\\\\\n",
       " <chr> & <int>\\\\\n",
       "\\hline\n",
       "\t Introduction to Computer Science & 301082\\\\\n",
       "\\end{tabular}\n"
      ],
      "text/markdown": [
       "\n",
       "A data.frame: 1 × 2\n",
       "\n",
       "| Course.Title &lt;chr&gt; | Participants &lt;int&gt; |\n",
       "|---|---|\n",
       "| Introduction to Computer Science | 301082 |\n",
       "\n"
      ],
      "text/plain": [
       "  Course.Title                     Participants\n",
       "1 Introduction to Computer Science 301082      "
      ]
     },
     "metadata": {},
     "output_type": "display_data"
    }
   ],
   "source": [
    "Course %>% select('Course.Title','Participants') %>% filter(Participants==max(Participants))"
   ]
  },
  {
   "cell_type": "code",
   "execution_count": null,
   "id": "absolute-deputy",
   "metadata": {},
   "outputs": [],
   "source": [
    "#To find the number of courses per instructor"
   ]
  },
  {
   "cell_type": "code",
   "execution_count": 11,
   "id": "downtown-township",
   "metadata": {
    "scrolled": true
   },
   "outputs": [
    {
     "name": "stderr",
     "output_type": "stream",
     "text": [
      "`summarise()` ungrouping output (override with `.groups` argument)\n",
      "\n"
     ]
    },
    {
     "data": {
      "text/html": [
       "<table class=\"dataframe\">\n",
       "<caption>A tibble: 141 × 2</caption>\n",
       "<thead>\n",
       "\t<tr><th scope=col>Instructors</th><th scope=col>n()</th></tr>\n",
       "\t<tr><th scope=col>&lt;chr&gt;</th><th scope=col>&lt;int&gt;</th></tr>\n",
       "</thead>\n",
       "<tbody>\n",
       "\t<tr><td>                                                                     </td><td>1</td></tr>\n",
       "\t<tr><td>Aaron Bernstein, Jack Spengler                                       </td><td>1</td></tr>\n",
       "\t<tr><td>Abhijit Vinayak Banerjee, Esther Duflo, Benjamin Olken               </td><td>1</td></tr>\n",
       "\t<tr><td>Adam Arkin, Ron Weiss                                                </td><td>1</td></tr>\n",
       "\t<tr><td>Alain Viel, Rachelle Gaudet                                          </td><td>1</td></tr>\n",
       "\t<tr><td>Alex Byrne                                                           </td><td>1</td></tr>\n",
       "\t<tr><td>Ali Asani                                                            </td><td>1</td></tr>\n",
       "\t<tr><td>Anant Agarwal                                                        </td><td>2</td></tr>\n",
       "\t<tr><td>Anant Agarwal, Gerald Sussman, Piotr Mitros, Chris Terman, Bonnie Lam</td><td>6</td></tr>\n",
       "\t<tr><td>Andrew Gordon, John Dower, Shigeru Miyagawa                          </td><td>2</td></tr>\n",
       "\t<tr><td>Ann Blair                                                            </td><td>1</td></tr>\n",
       "\t<tr><td>Arthur Kleinman, Paul Farmer, Salmaan Keshavjee, Anne Becker         </td><td>2</td></tr>\n",
       "\t<tr><td>Ashish Jha                                                           </td><td>1</td></tr>\n",
       "\t<tr><td>Ashish K. Jha                                                        </td><td>1</td></tr>\n",
       "\t<tr><td>Augustin Rayo                                                        </td><td>1</td></tr>\n",
       "\t<tr><td>Barton Zwiebach                                                      </td><td>1</td></tr>\n",
       "\t<tr><td>Barton Zwiebach, Saif Rayyan                                         </td><td>3</td></tr>\n",
       "\t<tr><td>Beverly Kienzle                                                      </td><td>1</td></tr>\n",
       "\t<tr><td>Bill Aulet                                                           </td><td>5</td></tr>\n",
       "\t<tr><td>Caroline Ross                                                        </td><td>4</td></tr>\n",
       "\t<tr><td>Caspar Hare                                                          </td><td>2</td></tr>\n",
       "\t<tr><td>Charles Fried                                                        </td><td>3</td></tr>\n",
       "\t<tr><td>Charles Hallisey                                                     </td><td>1</td></tr>\n",
       "\t<tr><td>Charles Nesson                                                       </td><td>1</td></tr>\n",
       "\t<tr><td>Chris Caplice                                                        </td><td>3</td></tr>\n",
       "\t<tr><td>Chris Caplice, Yossi Sheffi, James Blayney Rice Jr., Jarrod Goentzel </td><td>1</td></tr>\n",
       "\t<tr><td>Chris Caplice, Yossi Sheffi, Jarrod Goentzel, James Blayney Rice Jr. </td><td>1</td></tr>\n",
       "\t<tr><td>Chris Terman, Steve Ward, Silvina Hanono Wachman                     </td><td>2</td></tr>\n",
       "\t<tr><td>Chris Terman, Steve Ward, Silvina Wachman                            </td><td>1</td></tr>\n",
       "\t<tr><td>Collaborative                                                        </td><td>1</td></tr>\n",
       "\t<tr><td>...</td><td>...</td></tr>\n",
       "\t<tr><td>Peter Galison                                                                                            </td><td> 2</td></tr>\n",
       "\t<tr><td>Rachel Glennerster                                                                                       </td><td> 1</td></tr>\n",
       "\t<tr><td>Rachel Glennerster, Marc Shotland                                                                        </td><td> 4</td></tr>\n",
       "\t<tr><td>Rafael Irizarry                                                                                          </td><td>16</td></tr>\n",
       "\t<tr><td>Regina Herzlinger, Margo Selzer                                                                          </td><td> 2</td></tr>\n",
       "\t<tr><td>Richard Elmore                                                                                           </td><td> 2</td></tr>\n",
       "\t<tr><td>Rob Lue                                                                                                  </td><td> 2</td></tr>\n",
       "\t<tr><td>Robert Darnton                                                                                           </td><td> 1</td></tr>\n",
       "\t<tr><td>Robert Kegan (Bob), Lisa Lahey                                                                           </td><td> 1</td></tr>\n",
       "\t<tr><td>Robert Kegan, Lisa Lahey                                                                                 </td><td> 1</td></tr>\n",
       "\t<tr><td>Russ Tedrake                                                                                             </td><td> 1</td></tr>\n",
       "\t<tr><td>Russ Tedrake, Robin Deits, Twan Koolen                                                                   </td><td> 1</td></tr>\n",
       "\t<tr><td>Sandy Pentland                                                                                           </td><td> 1</td></tr>\n",
       "\t<tr><td>Sanjoy Mahajan, Isaac Chuang                                                                             </td><td> 1</td></tr>\n",
       "\t<tr><td>Sebastian Seung                                                                                          </td><td> 1</td></tr>\n",
       "\t<tr><td>Simona Socrate                                                                                           </td><td> 1</td></tr>\n",
       "\t<tr><td>Simona Socrate, Alexie Kolpak                                                                            </td><td> 1</td></tr>\n",
       "\t<tr><td>Simona Socrate, Alexie M. Kolpak                                                                         </td><td> 1</td></tr>\n",
       "\t<tr><td>Stephen Bell, Tania Baker                                                                                </td><td> 1</td></tr>\n",
       "\t<tr><td>Stephen P. Bell, Tania A. Baker, Mary Ellen Wiltrout, Nathaniel Schafheimer, Sera Thornton               </td><td> 3</td></tr>\n",
       "\t<tr><td>Tania Khanna                                                                                             </td><td> 1</td></tr>\n",
       "\t<tr><td>Tarun Khanna                                                                                             </td><td> 1</td></tr>\n",
       "\t<tr><td>Thomas Kochan                                                                                            </td><td> 1</td></tr>\n",
       "\t<tr><td>Thomas Kochan, Gokce Basbug, Meryam Bukari, Shahid Azad, Kanika Almadi                                   </td><td> 1</td></tr>\n",
       "\t<tr><td>Thomas Patterson                                                                                         </td><td> 1</td></tr>\n",
       "\t<tr><td>Tom Kelly                                                                                                </td><td> 6</td></tr>\n",
       "\t<tr><td>Trudy Van Houten                                                                                         </td><td> 1</td></tr>\n",
       "\t<tr><td>Walter Lewin                                                                                             </td><td> 1</td></tr>\n",
       "\t<tr><td>Walter Lewin, John Belcher, Peter Dourmashkin, Ricardo Abbate, Saif Rayyan, George Stephans, Isaac Chuang</td><td> 1</td></tr>\n",
       "\t<tr><td>Wolfgang Ketterle, David E. Pritchard, Isaac Chuang                                                      </td><td> 5</td></tr>\n",
       "</tbody>\n",
       "</table>\n"
      ],
      "text/latex": [
       "A tibble: 141 × 2\n",
       "\\begin{tabular}{ll}\n",
       " Instructors & n()\\\\\n",
       " <chr> & <int>\\\\\n",
       "\\hline\n",
       "\t                                                                       & 1\\\\\n",
       "\t Aaron Bernstein, Jack Spengler                                        & 1\\\\\n",
       "\t Abhijit Vinayak Banerjee, Esther Duflo, Benjamin Olken                & 1\\\\\n",
       "\t Adam Arkin, Ron Weiss                                                 & 1\\\\\n",
       "\t Alain Viel, Rachelle Gaudet                                           & 1\\\\\n",
       "\t Alex Byrne                                                            & 1\\\\\n",
       "\t Ali Asani                                                             & 1\\\\\n",
       "\t Anant Agarwal                                                         & 2\\\\\n",
       "\t Anant Agarwal, Gerald Sussman, Piotr Mitros, Chris Terman, Bonnie Lam & 6\\\\\n",
       "\t Andrew Gordon, John Dower, Shigeru Miyagawa                           & 2\\\\\n",
       "\t Ann Blair                                                             & 1\\\\\n",
       "\t Arthur Kleinman, Paul Farmer, Salmaan Keshavjee, Anne Becker          & 2\\\\\n",
       "\t Ashish Jha                                                            & 1\\\\\n",
       "\t Ashish K. Jha                                                         & 1\\\\\n",
       "\t Augustin Rayo                                                         & 1\\\\\n",
       "\t Barton Zwiebach                                                       & 1\\\\\n",
       "\t Barton Zwiebach, Saif Rayyan                                          & 3\\\\\n",
       "\t Beverly Kienzle                                                       & 1\\\\\n",
       "\t Bill Aulet                                                            & 5\\\\\n",
       "\t Caroline Ross                                                         & 4\\\\\n",
       "\t Caspar Hare                                                           & 2\\\\\n",
       "\t Charles Fried                                                         & 3\\\\\n",
       "\t Charles Hallisey                                                      & 1\\\\\n",
       "\t Charles Nesson                                                        & 1\\\\\n",
       "\t Chris Caplice                                                         & 3\\\\\n",
       "\t Chris Caplice, Yossi Sheffi, James Blayney Rice Jr., Jarrod Goentzel  & 1\\\\\n",
       "\t Chris Caplice, Yossi Sheffi, Jarrod Goentzel, James Blayney Rice Jr.  & 1\\\\\n",
       "\t Chris Terman, Steve Ward, Silvina Hanono Wachman                      & 2\\\\\n",
       "\t Chris Terman, Steve Ward, Silvina Wachman                             & 1\\\\\n",
       "\t Collaborative                                                         & 1\\\\\n",
       "\t ... & ...\\\\\n",
       "\t Peter Galison                                                                                             &  2\\\\\n",
       "\t Rachel Glennerster                                                                                        &  1\\\\\n",
       "\t Rachel Glennerster, Marc Shotland                                                                         &  4\\\\\n",
       "\t Rafael Irizarry                                                                                           & 16\\\\\n",
       "\t Regina Herzlinger, Margo Selzer                                                                           &  2\\\\\n",
       "\t Richard Elmore                                                                                            &  2\\\\\n",
       "\t Rob Lue                                                                                                   &  2\\\\\n",
       "\t Robert Darnton                                                                                            &  1\\\\\n",
       "\t Robert Kegan (Bob), Lisa Lahey                                                                            &  1\\\\\n",
       "\t Robert Kegan, Lisa Lahey                                                                                  &  1\\\\\n",
       "\t Russ Tedrake                                                                                              &  1\\\\\n",
       "\t Russ Tedrake, Robin Deits, Twan Koolen                                                                    &  1\\\\\n",
       "\t Sandy Pentland                                                                                            &  1\\\\\n",
       "\t Sanjoy Mahajan, Isaac Chuang                                                                              &  1\\\\\n",
       "\t Sebastian Seung                                                                                           &  1\\\\\n",
       "\t Simona Socrate                                                                                            &  1\\\\\n",
       "\t Simona Socrate, Alexie Kolpak                                                                             &  1\\\\\n",
       "\t Simona Socrate, Alexie M. Kolpak                                                                          &  1\\\\\n",
       "\t Stephen Bell, Tania Baker                                                                                 &  1\\\\\n",
       "\t Stephen P. Bell, Tania A. Baker, Mary Ellen Wiltrout, Nathaniel Schafheimer, Sera Thornton                &  3\\\\\n",
       "\t Tania Khanna                                                                                              &  1\\\\\n",
       "\t Tarun Khanna                                                                                              &  1\\\\\n",
       "\t Thomas Kochan                                                                                             &  1\\\\\n",
       "\t Thomas Kochan, Gokce Basbug, Meryam Bukari, Shahid Azad, Kanika Almadi                                    &  1\\\\\n",
       "\t Thomas Patterson                                                                                          &  1\\\\\n",
       "\t Tom Kelly                                                                                                 &  6\\\\\n",
       "\t Trudy Van Houten                                                                                          &  1\\\\\n",
       "\t Walter Lewin                                                                                              &  1\\\\\n",
       "\t Walter Lewin, John Belcher, Peter Dourmashkin, Ricardo Abbate, Saif Rayyan, George Stephans, Isaac Chuang &  1\\\\\n",
       "\t Wolfgang Ketterle, David E. Pritchard, Isaac Chuang                                                       &  5\\\\\n",
       "\\end{tabular}\n"
      ],
      "text/markdown": [
       "\n",
       "A tibble: 141 × 2\n",
       "\n",
       "| Instructors &lt;chr&gt; | n() &lt;int&gt; |\n",
       "|---|---|\n",
       "| <!----> | 1 |\n",
       "| Aaron Bernstein, Jack Spengler                                        | 1 |\n",
       "| Abhijit Vinayak Banerjee, Esther Duflo, Benjamin Olken                | 1 |\n",
       "| Adam Arkin, Ron Weiss                                                 | 1 |\n",
       "| Alain Viel, Rachelle Gaudet                                           | 1 |\n",
       "| Alex Byrne                                                            | 1 |\n",
       "| Ali Asani                                                             | 1 |\n",
       "| Anant Agarwal                                                         | 2 |\n",
       "| Anant Agarwal, Gerald Sussman, Piotr Mitros, Chris Terman, Bonnie Lam | 6 |\n",
       "| Andrew Gordon, John Dower, Shigeru Miyagawa                           | 2 |\n",
       "| Ann Blair                                                             | 1 |\n",
       "| Arthur Kleinman, Paul Farmer, Salmaan Keshavjee, Anne Becker          | 2 |\n",
       "| Ashish Jha                                                            | 1 |\n",
       "| Ashish K. Jha                                                         | 1 |\n",
       "| Augustin Rayo                                                         | 1 |\n",
       "| Barton Zwiebach                                                       | 1 |\n",
       "| Barton Zwiebach, Saif Rayyan                                          | 3 |\n",
       "| Beverly Kienzle                                                       | 1 |\n",
       "| Bill Aulet                                                            | 5 |\n",
       "| Caroline Ross                                                         | 4 |\n",
       "| Caspar Hare                                                           | 2 |\n",
       "| Charles Fried                                                         | 3 |\n",
       "| Charles Hallisey                                                      | 1 |\n",
       "| Charles Nesson                                                        | 1 |\n",
       "| Chris Caplice                                                         | 3 |\n",
       "| Chris Caplice, Yossi Sheffi, James Blayney Rice Jr., Jarrod Goentzel  | 1 |\n",
       "| Chris Caplice, Yossi Sheffi, Jarrod Goentzel, James Blayney Rice Jr.  | 1 |\n",
       "| Chris Terman, Steve Ward, Silvina Hanono Wachman                      | 2 |\n",
       "| Chris Terman, Steve Ward, Silvina Wachman                             | 1 |\n",
       "| Collaborative                                                         | 1 |\n",
       "| ... | ... |\n",
       "| Peter Galison                                                                                             |  2 |\n",
       "| Rachel Glennerster                                                                                        |  1 |\n",
       "| Rachel Glennerster, Marc Shotland                                                                         |  4 |\n",
       "| Rafael Irizarry                                                                                           | 16 |\n",
       "| Regina Herzlinger, Margo Selzer                                                                           |  2 |\n",
       "| Richard Elmore                                                                                            |  2 |\n",
       "| Rob Lue                                                                                                   |  2 |\n",
       "| Robert Darnton                                                                                            |  1 |\n",
       "| Robert Kegan (Bob), Lisa Lahey                                                                            |  1 |\n",
       "| Robert Kegan, Lisa Lahey                                                                                  |  1 |\n",
       "| Russ Tedrake                                                                                              |  1 |\n",
       "| Russ Tedrake, Robin Deits, Twan Koolen                                                                    |  1 |\n",
       "| Sandy Pentland                                                                                            |  1 |\n",
       "| Sanjoy Mahajan, Isaac Chuang                                                                              |  1 |\n",
       "| Sebastian Seung                                                                                           |  1 |\n",
       "| Simona Socrate                                                                                            |  1 |\n",
       "| Simona Socrate, Alexie Kolpak                                                                             |  1 |\n",
       "| Simona Socrate, Alexie M. Kolpak                                                                          |  1 |\n",
       "| Stephen Bell, Tania Baker                                                                                 |  1 |\n",
       "| Stephen P. Bell, Tania A. Baker, Mary Ellen Wiltrout, Nathaniel Schafheimer, Sera Thornton                |  3 |\n",
       "| Tania Khanna                                                                                              |  1 |\n",
       "| Tarun Khanna                                                                                              |  1 |\n",
       "| Thomas Kochan                                                                                             |  1 |\n",
       "| Thomas Kochan, Gokce Basbug, Meryam Bukari, Shahid Azad, Kanika Almadi                                    |  1 |\n",
       "| Thomas Patterson                                                                                          |  1 |\n",
       "| Tom Kelly                                                                                                 |  6 |\n",
       "| Trudy Van Houten                                                                                          |  1 |\n",
       "| Walter Lewin                                                                                              |  1 |\n",
       "| Walter Lewin, John Belcher, Peter Dourmashkin, Ricardo Abbate, Saif Rayyan, George Stephans, Isaac Chuang |  1 |\n",
       "| Wolfgang Ketterle, David E. Pritchard, Isaac Chuang                                                       |  5 |\n",
       "\n"
      ],
      "text/plain": [
       "    Instructors                                                                                              \n",
       "1                                                                                                            \n",
       "2   Aaron Bernstein, Jack Spengler                                                                           \n",
       "3   Abhijit Vinayak Banerjee, Esther Duflo, Benjamin Olken                                                   \n",
       "4   Adam Arkin, Ron Weiss                                                                                    \n",
       "5   Alain Viel, Rachelle Gaudet                                                                              \n",
       "6   Alex Byrne                                                                                               \n",
       "7   Ali Asani                                                                                                \n",
       "8   Anant Agarwal                                                                                            \n",
       "9   Anant Agarwal, Gerald Sussman, Piotr Mitros, Chris Terman, Bonnie Lam                                    \n",
       "10  Andrew Gordon, John Dower, Shigeru Miyagawa                                                              \n",
       "11  Ann Blair                                                                                                \n",
       "12  Arthur Kleinman, Paul Farmer, Salmaan Keshavjee, Anne Becker                                             \n",
       "13  Ashish Jha                                                                                               \n",
       "14  Ashish K. Jha                                                                                            \n",
       "15  Augustin Rayo                                                                                            \n",
       "16  Barton Zwiebach                                                                                          \n",
       "17  Barton Zwiebach, Saif Rayyan                                                                             \n",
       "18  Beverly Kienzle                                                                                          \n",
       "19  Bill Aulet                                                                                               \n",
       "20  Caroline Ross                                                                                            \n",
       "21  Caspar Hare                                                                                              \n",
       "22  Charles Fried                                                                                            \n",
       "23  Charles Hallisey                                                                                         \n",
       "24  Charles Nesson                                                                                           \n",
       "25  Chris Caplice                                                                                            \n",
       "26  Chris Caplice, Yossi Sheffi, James Blayney Rice Jr., Jarrod Goentzel                                     \n",
       "27  Chris Caplice, Yossi Sheffi, Jarrod Goentzel, James Blayney Rice Jr.                                     \n",
       "28  Chris Terman, Steve Ward, Silvina Hanono Wachman                                                         \n",
       "29  Chris Terman, Steve Ward, Silvina Wachman                                                                \n",
       "30  Collaborative                                                                                            \n",
       "... ...                                                                                                      \n",
       "112 Peter Galison                                                                                            \n",
       "113 Rachel Glennerster                                                                                       \n",
       "114 Rachel Glennerster, Marc Shotland                                                                        \n",
       "115 Rafael Irizarry                                                                                          \n",
       "116 Regina Herzlinger, Margo Selzer                                                                          \n",
       "117 Richard Elmore                                                                                           \n",
       "118 Rob Lue                                                                                                  \n",
       "119 Robert Darnton                                                                                           \n",
       "120 Robert Kegan (Bob), Lisa Lahey                                                                           \n",
       "121 Robert Kegan, Lisa Lahey                                                                                 \n",
       "122 Russ Tedrake                                                                                             \n",
       "123 Russ Tedrake, Robin Deits, Twan Koolen                                                                   \n",
       "124 Sandy Pentland                                                                                           \n",
       "125 Sanjoy Mahajan, Isaac Chuang                                                                             \n",
       "126 Sebastian Seung                                                                                          \n",
       "127 Simona Socrate                                                                                           \n",
       "128 Simona Socrate, Alexie Kolpak                                                                            \n",
       "129 Simona Socrate, Alexie M. Kolpak                                                                         \n",
       "130 Stephen Bell, Tania Baker                                                                                \n",
       "131 Stephen P. Bell, Tania A. Baker, Mary Ellen Wiltrout, Nathaniel Schafheimer, Sera Thornton               \n",
       "132 Tania Khanna                                                                                             \n",
       "133 Tarun Khanna                                                                                             \n",
       "134 Thomas Kochan                                                                                            \n",
       "135 Thomas Kochan, Gokce Basbug, Meryam Bukari, Shahid Azad, Kanika Almadi                                   \n",
       "136 Thomas Patterson                                                                                         \n",
       "137 Tom Kelly                                                                                                \n",
       "138 Trudy Van Houten                                                                                         \n",
       "139 Walter Lewin                                                                                             \n",
       "140 Walter Lewin, John Belcher, Peter Dourmashkin, Ricardo Abbate, Saif Rayyan, George Stephans, Isaac Chuang\n",
       "141 Wolfgang Ketterle, David E. Pritchard, Isaac Chuang                                                      \n",
       "    n()\n",
       "1   1  \n",
       "2   1  \n",
       "3   1  \n",
       "4   1  \n",
       "5   1  \n",
       "6   1  \n",
       "7   1  \n",
       "8   2  \n",
       "9   6  \n",
       "10  2  \n",
       "11  1  \n",
       "12  2  \n",
       "13  1  \n",
       "14  1  \n",
       "15  1  \n",
       "16  1  \n",
       "17  3  \n",
       "18  1  \n",
       "19  5  \n",
       "20  4  \n",
       "21  2  \n",
       "22  3  \n",
       "23  1  \n",
       "24  1  \n",
       "25  3  \n",
       "26  1  \n",
       "27  1  \n",
       "28  2  \n",
       "29  1  \n",
       "30  1  \n",
       "... ...\n",
       "112  2 \n",
       "113  1 \n",
       "114  4 \n",
       "115 16 \n",
       "116  2 \n",
       "117  2 \n",
       "118  2 \n",
       "119  1 \n",
       "120  1 \n",
       "121  1 \n",
       "122  1 \n",
       "123  1 \n",
       "124  1 \n",
       "125  1 \n",
       "126  1 \n",
       "127  1 \n",
       "128  1 \n",
       "129  1 \n",
       "130  1 \n",
       "131  3 \n",
       "132  1 \n",
       "133  1 \n",
       "134  1 \n",
       "135  1 \n",
       "136  1 \n",
       "137  6 \n",
       "138  1 \n",
       "139  1 \n",
       "140  1 \n",
       "141  5 "
      ]
     },
     "metadata": {},
     "output_type": "display_data"
    }
   ],
   "source": [
    "Course %>% group_by(Instructors) %>% summarise(n())"
   ]
  },
  {
   "cell_type": "code",
   "execution_count": 17,
   "id": "flush-rouge",
   "metadata": {},
   "outputs": [],
   "source": [
    "#To find the particpants in both institution having Bachelor Degree or higher"
   ]
  },
  {
   "cell_type": "code",
   "execution_count": 16,
   "id": "experienced-photograph",
   "metadata": {
    "scrolled": true
   },
   "outputs": [
    {
     "name": "stderr",
     "output_type": "stream",
     "text": [
      "`summarise()` ungrouping output (override with `.groups` argument)\n",
      "\n"
     ]
    },
    {
     "data": {
      "text/html": [
       "<table class=\"dataframe\">\n",
       "<caption>A tibble: 2 × 2</caption>\n",
       "<thead>\n",
       "\t<tr><th scope=col>Institution</th><th scope=col>Percent.Bachelor.s.Degree.or.Higher</th></tr>\n",
       "\t<tr><th scope=col>&lt;chr&gt;</th><th scope=col>&lt;dbl&gt;</th></tr>\n",
       "</thead>\n",
       "<tbody>\n",
       "\t<tr><td>HarvardX</td><td>76.01705</td></tr>\n",
       "\t<tr><td>MITx    </td><td>68.92317</td></tr>\n",
       "</tbody>\n",
       "</table>\n"
      ],
      "text/latex": [
       "A tibble: 2 × 2\n",
       "\\begin{tabular}{ll}\n",
       " Institution & Percent.Bachelor.s.Degree.or.Higher\\\\\n",
       " <chr> & <dbl>\\\\\n",
       "\\hline\n",
       "\t HarvardX & 76.01705\\\\\n",
       "\t MITx     & 68.92317\\\\\n",
       "\\end{tabular}\n"
      ],
      "text/markdown": [
       "\n",
       "A tibble: 2 × 2\n",
       "\n",
       "| Institution &lt;chr&gt; | Percent.Bachelor.s.Degree.or.Higher &lt;dbl&gt; |\n",
       "|---|---|\n",
       "| HarvardX | 76.01705 |\n",
       "| MITx     | 68.92317 |\n",
       "\n"
      ],
      "text/plain": [
       "  Institution Percent.Bachelor.s.Degree.or.Higher\n",
       "1 HarvardX    76.01705                           \n",
       "2 MITx        68.92317                           "
      ]
     },
     "metadata": {},
     "output_type": "display_data"
    }
   ],
   "source": [
    "Course %>% group_by(Institution) %>% summarise(Percent.Bachelor.s.Degree.or.Higher=mean(Percent.Bachelor.s.Degree.or.Higher))"
   ]
  },
  {
   "cell_type": "code",
   "execution_count": null,
   "id": "adopted-stack",
   "metadata": {},
   "outputs": [],
   "source": [
    "#To find the average male and female percentage in each institution"
   ]
  },
  {
   "cell_type": "code",
   "execution_count": 19,
   "id": "coupled-identity",
   "metadata": {
    "scrolled": true
   },
   "outputs": [
    {
     "name": "stderr",
     "output_type": "stream",
     "text": [
      "`summarise()` ungrouping output (override with `.groups` argument)\n",
      "\n"
     ]
    },
    {
     "data": {
      "text/html": [
       "<table class=\"dataframe\">\n",
       "<caption>A tibble: 2 × 3</caption>\n",
       "<thead>\n",
       "\t<tr><th scope=col>Institution</th><th scope=col>Percent.Male</th><th scope=col>Percent.Female</th></tr>\n",
       "\t<tr><th scope=col>&lt;chr&gt;</th><th scope=col>&lt;dbl&gt;</th><th scope=col>&lt;dbl&gt;</th></tr>\n",
       "</thead>\n",
       "<tbody>\n",
       "\t<tr><td>HarvardX</td><td>55.43721</td><td>44.56279</td></tr>\n",
       "\t<tr><td>MITx    </td><td>76.28385</td><td>23.71615</td></tr>\n",
       "</tbody>\n",
       "</table>\n"
      ],
      "text/latex": [
       "A tibble: 2 × 3\n",
       "\\begin{tabular}{lll}\n",
       " Institution & Percent.Male & Percent.Female\\\\\n",
       " <chr> & <dbl> & <dbl>\\\\\n",
       "\\hline\n",
       "\t HarvardX & 55.43721 & 44.56279\\\\\n",
       "\t MITx     & 76.28385 & 23.71615\\\\\n",
       "\\end{tabular}\n"
      ],
      "text/markdown": [
       "\n",
       "A tibble: 2 × 3\n",
       "\n",
       "| Institution &lt;chr&gt; | Percent.Male &lt;dbl&gt; | Percent.Female &lt;dbl&gt; |\n",
       "|---|---|---|\n",
       "| HarvardX | 55.43721 | 44.56279 |\n",
       "| MITx     | 76.28385 | 23.71615 |\n",
       "\n"
      ],
      "text/plain": [
       "  Institution Percent.Male Percent.Female\n",
       "1 HarvardX    55.43721     44.56279      \n",
       "2 MITx        76.28385     23.71615      "
      ]
     },
     "metadata": {},
     "output_type": "display_data"
    }
   ],
   "source": [
    "Course %>% group_by(Institution) %>% summarise(Percent.Male=mean(Percent.Male),Percent.Female=mean(Percent.Female))"
   ]
  },
  {
   "cell_type": "code",
   "execution_count": null,
   "id": "funded-virtue",
   "metadata": {},
   "outputs": [],
   "source": [
    "#To find the information about the courses which are played more than 85 %"
   ]
  },
  {
   "cell_type": "code",
   "execution_count": 23,
   "id": "protecting-recycling",
   "metadata": {
    "scrolled": true
   },
   "outputs": [
    {
     "data": {
      "text/html": [
       "<table class=\"dataframe\">\n",
       "<caption>A data.frame: 4 × 3</caption>\n",
       "<thead>\n",
       "\t<tr><th scope=col>Course.Title</th><th scope=col>Instructors</th><th scope=col>Percent.Played.Video</th></tr>\n",
       "\t<tr><th scope=col>&lt;chr&gt;</th><th scope=col>&lt;chr&gt;</th><th scope=col>&lt;chr&gt;</th></tr>\n",
       "</thead>\n",
       "<tbody>\n",
       "\t<tr><td>Introduction to Computer Science and Programming</td><td>Eric Grimson, John Guttag, Chris Terman                                                                  </td><td>89.14</td></tr>\n",
       "\t<tr><td>Introduction to Solid State Chemistry           </td><td>Michael Cima                                                                                             </td><td>87.49</td></tr>\n",
       "\t<tr><td>Electricity and Magnetism                       </td><td>Walter Lewin, John Belcher, Peter Dourmashkin, Ricardo Abbate, Saif Rayyan, George Stephans, Isaac Chuang</td><td>85.3 </td></tr>\n",
       "\t<tr><td>Human Health and Global Environmental Change    </td><td>Aaron Bernstein, Jack Spengler                                                                           </td><td>85.35</td></tr>\n",
       "</tbody>\n",
       "</table>\n"
      ],
      "text/latex": [
       "A data.frame: 4 × 3\n",
       "\\begin{tabular}{lll}\n",
       " Course.Title & Instructors & Percent.Played.Video\\\\\n",
       " <chr> & <chr> & <chr>\\\\\n",
       "\\hline\n",
       "\t Introduction to Computer Science and Programming & Eric Grimson, John Guttag, Chris Terman                                                                   & 89.14\\\\\n",
       "\t Introduction to Solid State Chemistry            & Michael Cima                                                                                              & 87.49\\\\\n",
       "\t Electricity and Magnetism                        & Walter Lewin, John Belcher, Peter Dourmashkin, Ricardo Abbate, Saif Rayyan, George Stephans, Isaac Chuang & 85.3 \\\\\n",
       "\t Human Health and Global Environmental Change     & Aaron Bernstein, Jack Spengler                                                                            & 85.35\\\\\n",
       "\\end{tabular}\n"
      ],
      "text/markdown": [
       "\n",
       "A data.frame: 4 × 3\n",
       "\n",
       "| Course.Title &lt;chr&gt; | Instructors &lt;chr&gt; | Percent.Played.Video &lt;chr&gt; |\n",
       "|---|---|---|\n",
       "| Introduction to Computer Science and Programming | Eric Grimson, John Guttag, Chris Terman                                                                   | 89.14 |\n",
       "| Introduction to Solid State Chemistry            | Michael Cima                                                                                              | 87.49 |\n",
       "| Electricity and Magnetism                        | Walter Lewin, John Belcher, Peter Dourmashkin, Ricardo Abbate, Saif Rayyan, George Stephans, Isaac Chuang | 85.3  |\n",
       "| Human Health and Global Environmental Change     | Aaron Bernstein, Jack Spengler                                                                            | 85.35 |\n",
       "\n"
      ],
      "text/plain": [
       "  Course.Title                                    \n",
       "1 Introduction to Computer Science and Programming\n",
       "2 Introduction to Solid State Chemistry           \n",
       "3 Electricity and Magnetism                       \n",
       "4 Human Health and Global Environmental Change    \n",
       "  Instructors                                                                                              \n",
       "1 Eric Grimson, John Guttag, Chris Terman                                                                  \n",
       "2 Michael Cima                                                                                             \n",
       "3 Walter Lewin, John Belcher, Peter Dourmashkin, Ricardo Abbate, Saif Rayyan, George Stephans, Isaac Chuang\n",
       "4 Aaron Bernstein, Jack Spengler                                                                           \n",
       "  Percent.Played.Video\n",
       "1 89.14               \n",
       "2 87.49               \n",
       "3 85.3                \n",
       "4 85.35               "
      ]
     },
     "metadata": {},
     "output_type": "display_data"
    }
   ],
   "source": [
    "Course %>% select(Course.Title,Instructors,Percent.Played.Video) %>% filter(Percent.Played.Video>85)"
   ]
  },
  {
   "cell_type": "code",
   "execution_count": null,
   "id": "indie-savings",
   "metadata": {},
   "outputs": [],
   "source": [
    "#To find the course having highest length"
   ]
  },
  {
   "cell_type": "code",
   "execution_count": 33,
   "id": "infinite-nation",
   "metadata": {},
   "outputs": [
    {
     "data": {
      "text/html": [
       "<table class=\"dataframe\">\n",
       "<caption>A data.frame: 1 × 2</caption>\n",
       "<thead>\n",
       "\t<tr><th scope=col>Course.Title</th><th scope=col>Total.Course.Hours</th></tr>\n",
       "\t<tr><th scope=col>&lt;chr&gt;</th><th scope=col>&lt;dbl&gt;</th></tr>\n",
       "</thead>\n",
       "<tbody>\n",
       "\t<tr><td>Introduction to Computer Science and Programming</td><td>895.01</td></tr>\n",
       "</tbody>\n",
       "</table>\n"
      ],
      "text/latex": [
       "A data.frame: 1 × 2\n",
       "\\begin{tabular}{ll}\n",
       " Course.Title & Total.Course.Hours\\\\\n",
       " <chr> & <dbl>\\\\\n",
       "\\hline\n",
       "\t Introduction to Computer Science and Programming & 895.01\\\\\n",
       "\\end{tabular}\n"
      ],
      "text/markdown": [
       "\n",
       "A data.frame: 1 × 2\n",
       "\n",
       "| Course.Title &lt;chr&gt; | Total.Course.Hours &lt;dbl&gt; |\n",
       "|---|---|\n",
       "| Introduction to Computer Science and Programming | 895.01 |\n",
       "\n"
      ],
      "text/plain": [
       "  Course.Title                                     Total.Course.Hours\n",
       "1 Introduction to Computer Science and Programming 895.01            "
      ]
     },
     "metadata": {},
     "output_type": "display_data"
    }
   ],
   "source": [
    "Course %>% select('Course.Title','Total.Course.Hours') %>% filter(Total.Course.Hours==max(Total.Course.Hours))"
   ]
  },
  {
   "cell_type": "code",
   "execution_count": null,
   "id": "measured-kidney",
   "metadata": {},
   "outputs": [],
   "source": [
    "#To find the highest median age"
   ]
  },
  {
   "cell_type": "code",
   "execution_count": 41,
   "id": "operational-principal",
   "metadata": {
    "scrolled": true
   },
   "outputs": [
    {
     "data": {
      "text/html": [
       "<table class=\"dataframe\">\n",
       "<caption>A data.frame: 1 × 1</caption>\n",
       "<thead>\n",
       "\t<tr><th scope=col>Median.Age</th></tr>\n",
       "\t<tr><th scope=col>&lt;dbl&gt;</th></tr>\n",
       "</thead>\n",
       "<tbody>\n",
       "\t<tr><td>53</td></tr>\n",
       "</tbody>\n",
       "</table>\n"
      ],
      "text/latex": [
       "A data.frame: 1 × 1\n",
       "\\begin{tabular}{l}\n",
       " Median.Age\\\\\n",
       " <dbl>\\\\\n",
       "\\hline\n",
       "\t 53\\\\\n",
       "\\end{tabular}\n"
      ],
      "text/markdown": [
       "\n",
       "A data.frame: 1 × 1\n",
       "\n",
       "| Median.Age &lt;dbl&gt; |\n",
       "|---|\n",
       "| 53 |\n",
       "\n"
      ],
      "text/plain": [
       "  Median.Age\n",
       "1 53        "
      ]
     },
     "metadata": {},
     "output_type": "display_data"
    }
   ],
   "source": [
    "Course %>% select(Median.Age) %>% filter(Median.Age==max(Median.Age))"
   ]
  },
  {
   "cell_type": "markdown",
   "id": "capable-junior",
   "metadata": {},
   "source": [
    "# Visualizing dataset"
   ]
  },
  {
   "cell_type": "code",
   "execution_count": null,
   "id": "native-interview",
   "metadata": {},
   "outputs": [],
   "source": [
    "#To find the total particpants per institute"
   ]
  },
  {
   "cell_type": "code",
   "execution_count": 92,
   "id": "dense-illustration",
   "metadata": {
    "scrolled": true
   },
   "outputs": [
    {
     "data": {
      "image/png": "[encoded data removed]",
      "text/plain": [
       "plot without title"
      ]
     },
     "metadata": {
      "image/png": {
       "height": 420,
       "width": 420
      }
     },
     "output_type": "display_data"
    }
   ],
   "source": [
    "ggplot(data=Course,aes(x=Course.Subject,y=Participants,fill=Course.Subject)) + geom_bar(stat='identity') + ggtitle('Total Participants per Subject')"
   ]
  },
  {
   "cell_type": "code",
   "execution_count": null,
   "id": "pointed-exposure",
   "metadata": {},
   "outputs": [],
   "source": [
    "#To find the number of participants having bachelor degree or higher"
   ]
  },
  {
   "cell_type": "code",
   "execution_count": 68,
   "id": "monthly-repository",
   "metadata": {
    "scrolled": false
   },
   "outputs": [
    {
     "data": {
      "image/png": "[encoded data removed]",
      "text/plain": [
       "Plot with title \"Histogram of Course$Percent.Bachelor.s.Degree.or.Higher\""
      ]
     },
     "metadata": {
      "image/png": {
       "height": 420,
       "width": 420
      }
     },
     "output_type": "display_data"
    }
   ],
   "source": [
    "hist(x=Course$Percent.Bachelor.s.Degree.or.Higher,col='navy blue',xlab='Percent Bachelor Degree or higher')"
   ]
  },
  {
   "cell_type": "code",
   "execution_count": null,
   "id": "tough-counter",
   "metadata": {},
   "outputs": [],
   "source": [
    "#To find the relationship between Total hours and median hours"
   ]
  },
  {
   "cell_type": "code",
   "execution_count": 89,
   "id": "northern-board",
   "metadata": {
    "scrolled": true
   },
   "outputs": [
    {
     "data": {
      "image/png": "[encoded data removed]",
      "text/plain": [
       "plot without title"
      ]
     },
     "metadata": {
      "image/png": {
       "height": 420,
       "width": 420
      }
     },
     "output_type": "display_data"
    }
   ],
   "source": [
    "ggplot(data=Course,aes(x=Total.Course.Hours,y=Median.Hours.for.Certification)) + geom_point(color='magenta') + ggtitle('Realtionship b/w Total hours and Median hours')"
   ]
  },
  {
   "cell_type": "code",
   "execution_count": null,
   "id": "ordinary-region",
   "metadata": {},
   "outputs": [],
   "source": []
  },
  {
   "cell_type": "code",
   "execution_count": null,
   "id": "turkish-rouge",
   "metadata": {},
   "outputs": [],
   "source": []
  }
 ],
 "metadata": {
  "kernelspec": {
   "display_name": "R",
   "language": "R",
   "name": "ir"
  },
  "language_info": {
   "codemirror_mode": "r",
   "file_extension": ".r",
   "mimetype": "text/x-r-source",
   "name": "R",
   "pygments_lexer": "r",
   "version": "4.0.3"
  }
 },
 "nbformat": 4,
 "nbformat_minor": 5
}
